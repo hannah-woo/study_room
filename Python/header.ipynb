{
 "cells": [
  {
   "cell_type": "code",
   "execution_count": 156,
   "metadata": {},
   "outputs": [],
   "source": [
    "def draw_star(num):\n",
    "    for i in range(num):\n",
    "        print('*', end ='')\n",
    "    print()"
   ]
  },
  {
   "cell_type": "code",
   "execution_count": 157,
   "metadata": {},
   "outputs": [],
   "source": [
    "def print_space(num):\n",
    "    for i in range(num):\n",
    "        print(' ', end='')"
   ]
  },
  {
   "cell_type": "code",
   "execution_count": 158,
   "metadata": {},
   "outputs": [],
   "source": [
    "from datetime import datetime\n",
    "\n",
    "title = 'python program'\n",
    "date = str(datetime.now().date())\n",
    "name = '(c) hannah'"
   ]
  },
  {
   "cell_type": "code",
   "execution_count": 159,
   "metadata": {},
   "outputs": [
    {
     "name": "stdout",
     "output_type": "stream",
     "text": [
      "14 10 10\n"
     ]
    }
   ],
   "source": [
    "title_len = len(title)\n",
    "date_len = len(date)\n",
    "name_len = len(name)\n",
    "print(title_len, date_len, name_len)"
   ]
  },
  {
   "cell_type": "code",
   "execution_count": 160,
   "metadata": {},
   "outputs": [],
   "source": [
    "base_line = max(title_len, date_len, name_len) + 8\n",
    "first_space = int((base_line - title_len)/2)\n",
    "second_space = int((base_line - date_len)/2)\n",
    "third_space = int((base_line - name_len)/2)"
   ]
  },
  {
   "cell_type": "code",
   "execution_count": 161,
   "metadata": {},
   "outputs": [],
   "source": [
    "def copyright(title, date, name):\n",
    "    draw_star(base_line)\n",
    "    print_space(first_space)\n",
    "    print(title)\n",
    "    print_space(second_space)\n",
    "    print(date)\n",
    "    print_space(third_space)\n",
    "    print(name)\n",
    "    draw_star(base_line)"
   ]
  },
  {
   "cell_type": "code",
   "execution_count": 162,
   "metadata": {},
   "outputs": [
    {
     "name": "stdout",
     "output_type": "stream",
     "text": [
      "**********************\n",
      "    python program\n",
      "      2023-05-17\n",
      "      (c) hannah\n",
      "**********************\n"
     ]
    }
   ],
   "source": [
    "copyright(title, date, name)"
   ]
  }
 ],
 "metadata": {
  "kernelspec": {
   "display_name": "study",
   "language": "python",
   "name": "python3"
  },
  "language_info": {
   "codemirror_mode": {
    "name": "ipython",
    "version": 3
   },
   "file_extension": ".py",
   "mimetype": "text/x-python",
   "name": "python",
   "nbconvert_exporter": "python",
   "pygments_lexer": "ipython3",
   "version": "3.10.9"
  },
  "orig_nbformat": 4
 },
 "nbformat": 4,
 "nbformat_minor": 2
}
