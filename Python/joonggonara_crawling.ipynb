{
 "cells": [
  {
   "cell_type": "code",
   "execution_count": 7,
   "metadata": {},
   "outputs": [],
   "source": [
    "import chromedriver_autoinstaller as auto\n",
    "\n",
    "# auto.install(True)"
   ]
  },
  {
   "cell_type": "code",
   "execution_count": null,
   "metadata": {},
   "outputs": [],
   "source": [
    "from selenium import webdriver\n",
    "from selenium.webdriver.common.keys import Keys\n",
    "from selenium.webdriver.common.by import By\n",
    "\n",
    "driver = webdriver.Chrome()\n",
    "try:\n",
    "    driver.get('http://cafe.naver.com/joonggonara')\n",
    "    elem = driver.find_element(By.ID, 'topLayerQueryInput')\n",
    "    elem.send_keys('루이지 맨션')\n",
    "    elem.send_keys(Keys.RETURN)\n",
    "    iframe = driver.find_element(By.ID, 'cafe_main')\n",
    "    driver.switch_to.frame(iframe)\n",
    "    elem = driver.find_elements(By.CLASS_NAME, 'article-board')[1]\n",
    "    rows = elem.find_elements(By.XPATH, './table/tbody/tr')\n",
    "    for row in rows:\n",
    "        elem = row.find_element(By.CLASS_NAME, 'article')\n",
    "        print(elem.text)\n",
    "except Exception as e:\n",
    "    print(e)\n",
    "finally:\n",
    "    driver.quit()"
   ]
  }
 ],
 "metadata": {
  "kernelspec": {
   "display_name": "study",
   "language": "python",
   "name": "python3"
  },
  "language_info": {
   "codemirror_mode": {
    "name": "ipython",
    "version": 3
   },
   "file_extension": ".py",
   "mimetype": "text/x-python",
   "name": "python",
   "nbconvert_exporter": "python",
   "pygments_lexer": "ipython3",
   "version": "3.10.9"
  },
  "orig_nbformat": 4
 },
 "nbformat": 4,
 "nbformat_minor": 2
}
