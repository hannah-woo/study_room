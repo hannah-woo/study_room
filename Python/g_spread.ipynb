{
 "cells": [
  {
   "cell_type": "code",
   "execution_count": 1,
   "metadata": {},
   "outputs": [],
   "source": [
    "import os\n",
    "import gspread\n",
    "from oauth2client.service_account import ServiceAccountCredentials as SC\n",
    "from openpyxl import load_workbook\n",
    "from openpyxl.utils.cell import get_column_letter"
   ]
  },
  {
   "cell_type": "code",
   "execution_count": 2,
   "metadata": {},
   "outputs": [],
   "source": [
    "scope = [\n",
    "    'https://spreadsheets.google.com/feeds',\n",
    "    'https://www.googleapis.com/auth/drive'\n",
    "]\n",
    "credentials = SC.from_json_keyfile_name('json_key_file_path', scope) # json_key_file_path => service account key file path\n",
    "gs = gspread.authorize(credentials)"
   ]
  },
  {
   "cell_type": "code",
   "execution_count": 3,
   "metadata": {},
   "outputs": [
    {
     "data": {
      "text/plain": [
       "<Response [200]>"
      ]
     },
     "execution_count": 3,
     "metadata": {},
     "output_type": "execute_result"
    }
   ],
   "source": [
    "spread = gs.create('New Document')\n",
    "spread.share('john@email.com', perm_type='user', role='reader') # john@email.com => email address you'd like to share with"
   ]
  },
  {
   "cell_type": "code",
   "execution_count": 4,
   "metadata": {},
   "outputs": [],
   "source": [
    "data_path = 'C:\\\\Users\\\\username\\\\folder_path'\n",
    "file_list = os.listdir(data_path)\n",
    "for file in file_list:\n",
    "    if file[-4:] != 'xlsx':\n",
    "        continue\n",
    "    file_path = os.path.join(data_path, file)\n",
    "    wb = load_workbook(file_path, read_only=True)\n",
    "    ws = wb.active\n",
    "    row_cnt = ws.max_row\n",
    "    col_cnt = ws.max_column\n",
    "    worksheet = spread.add_worksheet(file, row_cnt, col_cnt)\n",
    "    cells = worksheet.range('A1:'+get_column_letter(col_cnt)+str(row_cnt))\n",
    "    idx = 0\n",
    "    for row in ws.iter_rows():\n",
    "        for cell in row:\n",
    "            cells[idx].value = str(cell.value)\n",
    "            idx += 1\n",
    "    worksheet.update_cells(cells)"
   ]
  }
 ],
 "metadata": {
  "kernelspec": {
   "display_name": "study",
   "language": "python",
   "name": "python3"
  },
  "language_info": {
   "codemirror_mode": {
    "name": "ipython",
    "version": 3
   },
   "file_extension": ".py",
   "mimetype": "text/x-python",
   "name": "python",
   "nbconvert_exporter": "python",
   "pygments_lexer": "ipython3",
   "version": "3.10.9"
  },
  "orig_nbformat": 4
 },
 "nbformat": 4,
 "nbformat_minor": 2
}
