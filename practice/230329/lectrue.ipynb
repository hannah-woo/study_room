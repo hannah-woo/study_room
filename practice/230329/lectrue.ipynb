{
 "cells": [
  {
   "cell_type": "code",
   "execution_count": 7,
   "metadata": {},
   "outputs": [],
   "source": [
    "import numpy as np\n",
    "import matplotlib.pyplot as plt"
   ]
  },
  {
   "cell_type": "code",
   "execution_count": 8,
   "metadata": {},
   "outputs": [
    {
     "data": {
      "text/plain": [
       "array([[-1.72, -3.12,  1.  ],\n",
       "       [ 0.31,  1.85,  1.  ],\n",
       "       [ 1.56,  2.85,  1.  ],\n",
       "       [ 2.64,  2.41,  1.  ],\n",
       "       [ 1.23,  2.54,  1.  ],\n",
       "       [ 1.33,  2.03,  1.  ],\n",
       "       [ 1.26,  2.68,  1.  ],\n",
       "       [ 2.58,  1.79,  1.  ],\n",
       "       [ 2.4 ,  0.91,  1.  ],\n",
       "       [ 0.51,  2.44,  1.  ],\n",
       "       [ 2.17,  2.64,  1.  ],\n",
       "       [ 3.38,  2.94,  1.  ],\n",
       "       [ 1.09,  3.12,  1.  ],\n",
       "       [ 0.68,  1.43,  1.  ],\n",
       "       [ 3.76,  0.64,  1.  ],\n",
       "       [ 0.73,  2.97,  1.  ],\n",
       "       [ 0.53,  2.94,  1.  ],\n",
       "       [ 1.49,  1.25,  1.  ],\n",
       "       [ 3.92,  3.48,  1.  ],\n",
       "       [ 3.87,  2.91,  1.  ],\n",
       "       [ 1.14,  3.01,  1.  ],\n",
       "       [ 1.73,  2.8 ,  1.  ],\n",
       "       [ 2.96,  1.84,  1.  ],\n",
       "       [ 2.61,  2.92,  1.  ],\n",
       "       [ 2.28,  0.9 ,  1.  ],\n",
       "       [ 1.93,  3.71,  1.  ],\n",
       "       [ 1.26,  1.17,  1.  ],\n",
       "       [ 1.9 ,  1.34,  1.  ],\n",
       "       [ 3.13,  0.92,  1.  ],\n",
       "       [ 0.85,  1.46,  1.  ],\n",
       "       [ 1.5 ,  3.93,  1.  ],\n",
       "       [ 2.95,  2.09,  1.  ],\n",
       "       [ 0.76,  2.84,  1.  ],\n",
       "       [ 1.  ,  0.46,  1.  ],\n",
       "       [ 3.19,  2.32,  1.  ],\n",
       "       [ 2.82,  2.32,  1.  ],\n",
       "       [ 2.86,  1.35,  1.  ],\n",
       "       [ 0.97,  2.68,  1.  ],\n",
       "       [ 1.2 ,  1.31,  1.  ],\n",
       "       [ 1.54,  2.02,  1.  ],\n",
       "       [ 1.74,  0.63,  1.  ],\n",
       "       [ 1.36, -0.22,  1.  ],\n",
       "       [ 2.63,  0.4 ,  1.  ],\n",
       "       [ 0.9 ,  2.05,  1.  ],\n",
       "       [ 1.26,  2.54,  1.  ],\n",
       "       [ 0.71,  2.27,  1.  ],\n",
       "       [ 1.96,  0.83,  1.  ],\n",
       "       [ 2.52,  1.83,  1.  ],\n",
       "       [ 2.76,  2.82,  1.  ],\n",
       "       [ 3.16,  3.34,  1.  ],\n",
       "       [ 1.1 , -1.14,  0.  ],\n",
       "       [-1.33,  0.34,  0.  ],\n",
       "       [ 0.76, -3.07,  0.  ],\n",
       "       [-0.37, -1.91,  0.  ],\n",
       "       [-1.84, -1.11,  0.  ],\n",
       "       [-1.5 ,  0.24,  0.  ],\n",
       "       [-0.63, -1.53,  0.  ],\n",
       "       [-1.08, -1.23,  0.  ],\n",
       "       [ 0.29, -1.99,  0.  ],\n",
       "       [-1.26, -2.9 ,  0.  ],\n",
       "       [-5.27, -1.78,  0.  ],\n",
       "       [-0.49, -2.64,  0.  ],\n",
       "       [ 1.28, -3.64,  0.  ],\n",
       "       [-1.64, -1.96,  0.  ],\n",
       "       [ 0.25, -1.26,  0.  ],\n",
       "       [-1.48, -1.17,  0.  ],\n",
       "       [-2.94, -3.47,  0.  ],\n",
       "       [-2.19, -1.48,  0.  ],\n",
       "       [ 0.52, -0.02,  0.  ],\n",
       "       [-2.24, -2.12,  0.  ],\n",
       "       [-3.07, -2.09,  0.  ],\n",
       "       [-3.99,  0.73,  0.  ],\n",
       "       [-2.41, -2.21,  0.  ],\n",
       "       [-3.45, -0.62,  0.  ],\n",
       "       [-3.96, -2.  ,  0.  ],\n",
       "       [-2.95, -1.16,  0.  ],\n",
       "       [-2.42, -3.35,  0.  ],\n",
       "       [-1.64, -1.11,  0.  ],\n",
       "       [-1.61, -1.28,  0.  ],\n",
       "       [-2.59, -2.21,  0.  ],\n",
       "       [-2.64, -2.2 ,  0.  ],\n",
       "       [-2.84, -3.22,  0.  ],\n",
       "       [-1.45, -2.26,  0.  ],\n",
       "       [-3.08, -1.05,  0.  ],\n",
       "       [-2.97, -1.53,  0.  ],\n",
       "       [-0.68, -1.52,  0.  ],\n",
       "       [-0.11, -3.43,  0.  ],\n",
       "       [-1.14, -2.66,  0.  ],\n",
       "       [-2.92, -2.51,  0.  ],\n",
       "       [-2.14, -1.52,  0.  ],\n",
       "       [-3.02, -0.44,  0.  ],\n",
       "       [-1.05, -3.85,  0.  ],\n",
       "       [ 0.28, -1.25,  0.  ],\n",
       "       [-0.05, -1.95,  0.  ],\n",
       "       [-3.2 , -0.22,  0.  ],\n",
       "       [-2.26,  0.01,  0.  ],\n",
       "       [-1.41, -0.23,  0.  ],\n",
       "       [-1.2 , -0.71,  0.  ],\n",
       "       [-1.69,  0.7 ,  0.  ],\n",
       "       [-1.52, -1.14,  0.  ]])"
      ]
     },
     "execution_count": 8,
     "metadata": {},
     "output_type": "execute_result"
    }
   ],
   "source": [
    "data = np.genfromtxt('./joy.txt')\n",
    "data"
   ]
  },
  {
   "cell_type": "code",
   "execution_count": 9,
   "metadata": {},
   "outputs": [
    {
     "name": "stdout",
     "output_type": "stream",
     "text": [
      "[[-3.45 -0.62]\n",
      " [ 1.54  2.02]\n",
      " [-1.64 -1.11]\n",
      " [-1.05 -3.85]\n",
      " [ 2.52  1.83]] [0 1 0 0 1]\n",
      "[[-2.92 -2.51]\n",
      " [ 1.49  1.25]\n",
      " [-0.11 -3.43]\n",
      " [ 0.25 -1.26]\n",
      " [ 0.53  2.94]] [0 1 0 0 1]\n"
     ]
    },
    {
     "name": "stderr",
     "output_type": "stream",
     "text": [
      "C:\\Users\\hanna\\AppData\\Local\\Temp\\ipykernel_20708\\3382126866.py:4: DeprecationWarning: `np.int` is a deprecated alias for the builtin `int`. To silence this warning, use `int` by itself. Doing this will not modify any behavior and is safe. When replacing `np.int`, you may wish to use e.g. `np.int64` or `np.int32` to specify the precision. If you wish to review your current use, check the release note link for additional information.\n",
      "Deprecated in NumPy 1.20; for more details and guidance: https://numpy.org/devdocs/release/1.20.0-notes.html#deprecations\n",
      "  y = y.astype(np.int)\n"
     ]
    }
   ],
   "source": [
    "data = np.genfromtxt('./joy.txt')\n",
    "np.random.shuffle(data)\n",
    "x, y = data[:, :2], data[:, 2]\n",
    "y = y.astype(np.int)\n",
    "print(x[:5], y[:5])\n",
    "print(x[-5:], y[-5:])"
   ]
  },
  {
   "cell_type": "code",
   "execution_count": 10,
   "metadata": {},
   "outputs": [],
   "source": [
    "xmax = np.max(x)\n",
    "xmin = np.min(x)\n",
    "x = (x - xmin) / (xmax - xmin)"
   ]
  },
  {
   "cell_type": "code",
   "execution_count": 11,
   "metadata": {},
   "outputs": [],
   "source": [
    "mu = x.mean(axis = 0)\n",
    "sigma = x.std(axis = 0)\n",
    "x = (x - mu) / sigma"
   ]
  },
  {
   "cell_type": "code",
   "execution_count": null,
   "metadata": {},
   "outputs": [],
   "source": [
    "# 테스트"
   ]
  },
  {
   "cell_type": "code",
   "execution_count": 27,
   "metadata": {},
   "outputs": [
    {
     "name": "stderr",
     "output_type": "stream",
     "text": [
      "C:\\Users\\hanna\\AppData\\Local\\Temp\\ipykernel_22364\\363998587.py:6: DeprecationWarning: `np.int` is a deprecated alias for the builtin `int`. To silence this warning, use `int` by itself. Doing this will not modify any behavior and is safe. When replacing `np.int`, you may wish to use e.g. `np.int64` or `np.int32` to specify the precision. If you wish to review your current use, check the release note link for additional information.\n",
      "Deprecated in NumPy 1.20; for more details and guidance: https://numpy.org/devdocs/release/1.20.0-notes.html#deprecations\n",
      "  y = y.astype(np.int)\n"
     ]
    }
   ],
   "source": [
    "import numpy as np\n",
    "data = np.genfromtxt('./joy.txt')\n",
    "np.random.seed(1)\n",
    "np.random.shuffle(data)\n",
    "x, y = data[:, :2], data[:, 2]\n",
    "y = y.astype(np.int)\n",
    "\n",
    "num = int(x.shape[0] * 0.7) ##percentage\n",
    "x_train, x_test = x[:num], x[num:]\n",
    "y_train, y_test = y[:num], y[num:]"
   ]
  },
  {
   "cell_type": "code",
   "execution_count": 28,
   "metadata": {},
   "outputs": [],
   "source": [
    "X_train = np.c_[ np.ones(len(x_train)), x_train ]\n",
    "X_test  = np.c_[ np.ones(len(x_test)), x_test ]"
   ]
  },
  {
   "cell_type": "code",
   "execution_count": 29,
   "metadata": {},
   "outputs": [],
   "source": [
    "def perceptron_train(X, y, X0=False, eta=0.1, epochs=1, random_seed=1):\n",
    "    \"\"\"  Perceptron training function for binary class labels\n",
    "    Input Parameters\n",
    "        X : numpy.ndarray, shape=(n_samples, m_features), by default X0=False\n",
    "            A 2D NumPy array containing the training examples\n",
    "            or \n",
    "            If X0=True, X's shape=(n_samples, m_features+1) \n",
    "            It includes the bias or x0 = 1 for all samples \n",
    "        \n",
    "        y : numpy.ndarray, shape=(n_samples,)\n",
    "            A 1D NumPy array containing the true class labels\n",
    "        \n",
    "        X0: If True, then X must have X_0 = 1 in all samples.\n",
    "             Set it Faslse, if X does not have X_0 \n",
    "        \n",
    "        eta : float (default: 0.1) \n",
    "            A learning rate for the parameter updates. Note that a learning\n",
    "            rate has no effect on the direction of the decision boundary\n",
    "            if the model weights are initialized to all zeros.\n",
    "        \n",
    "        epochs : int (default: 1), Number of passes over the training dataset.\n",
    "        \n",
    "        random_seed : int or None (default: 1)\n",
    "            Seed for the pseudo-random number generator that initializes the\n",
    "            weights w if w is None.\n",
    "    \n",
    "    Returns \n",
    "        w : numpy.ndarray, shape=(m_features, )\n",
    "    \n",
    "        If you wants W : numpy.ndarray, shape=(epochs, m_features) to use \n",
    "        when calling , then invoke this function with epochs = 1 multiple times \n",
    "        and save the result in the form of W = np.vstack([W, w]). \n",
    "        You may initialize the W = np.array([w]), where w is an initial weights.\n",
    "    \"\"\"\n",
    "    if X0 == False:\n",
    "        X = np.c_[ np.ones(len(X)), X ]\n",
    "    \n",
    "    randnum = np.random.RandomState(random_seed) \n",
    "    w = randnum.normal(loc=0.0, scale=0.01, size=X.shape[1])\n",
    "           \n",
    "    maxlabel, minlabel = y.max(), y.min()                 # for use of bipolar or unit step function\n",
    "    for _ in range(epochs):\n",
    "        for xi, yi in zip(X, y):\n",
    "            z = np.dot(xi, w)                             # Compute net input, same as np.dot(w.T, x)\n",
    "            yhat = np.where(z > 0.0, maxlabel, minlabel)  # Apply unit step func and get output\n",
    "            #print('xi{}, \\t (yi,yhat)=({},{})'.format(np.round(xi,2), yi, yhat))\n",
    "            if yi != yhat:\n",
    "                delta = eta * (yi - yhat) * xi                # Compute delta    \n",
    "                w += delta                                    # Adjust weight\n",
    "                #print('xi{}, \\t (yi,yhat)=({},{}), delta{}, w{}'.format\n",
    "                #         (np.round(xi,2), yi, yhat, np.round(delta,2), np.round(w,2)))\n",
    "        \n",
    "    return w"
   ]
  },
  {
   "cell_type": "code",
   "execution_count": 30,
   "metadata": {},
   "outputs": [
    {
     "name": "stdout",
     "output_type": "stream",
     "text": [
      "w =  [-0.03668413  0.03515279  0.074546  ]\n"
     ]
    }
   ],
   "source": [
    "w = perceptron_train(X_train, y_train, X0=True, eta=0.05, epochs=2, random_seed=10)\n",
    "print('w = ', w)"
   ]
  },
  {
   "cell_type": "code",
   "execution_count": 31,
   "metadata": {},
   "outputs": [],
   "source": [
    "def perceptron_predict(X, w):\n",
    "    z = np.dot(X, w)\n",
    "    yhat = np.where(z > 0., 1, 0)\n",
    "    return yhat"
   ]
  },
  {
   "cell_type": "code",
   "execution_count": 32,
   "metadata": {},
   "outputs": [
    {
     "name": "stdout",
     "output_type": "stream",
     "text": [
      "w =  [-0.03668413  0.03515279  0.074546  ]\n",
      "Misclassified:2/70\n"
     ]
    }
   ],
   "source": [
    "#version 0.1\n",
    "print('w = ', w)\n",
    "yhat = perceptron_predict(X_train, w) \n",
    "missed = 0 # misclassified count\n",
    "m_samples = len(y_train)\n",
    "for m in range(m_samples):\n",
    "    if yhat[m] != y_train[m]:\n",
    "        missed += 1\n",
    "print('Misclassified:{}/{}'.format(missed, m_samples))"
   ]
  },
  {
   "cell_type": "code",
   "execution_count": 33,
   "metadata": {},
   "outputs": [
    {
     "name": "stdout",
     "output_type": "stream",
     "text": [
      "Misclassified:0/30\n"
     ]
    }
   ],
   "source": [
    "#version 0.1\n",
    "yhat = perceptron_predict(X_test, w) \n",
    "missed = 0 # misclassified count\n",
    "m_samples = len(y_test)\n",
    "for m in range(m_samples):\n",
    "    if yhat[m] != y_test[m]:\n",
    "        missed += 1\n",
    "print('Misclassified:{}/{}'.format(missed, m_samples))"
   ]
  },
  {
   "cell_type": "code",
   "execution_count": 34,
   "metadata": {},
   "outputs": [
    {
     "name": "stdout",
     "output_type": "stream",
     "text": [
      "Misclassified:0/30\n"
     ]
    }
   ],
   "source": [
    "#version 0.2\n",
    "yhat = perceptron_predict(X_test, w)\n",
    "missed = np.sum(yhat.flatten() != y_test)\n",
    "print('Misclassified:{}/{}'.format(missed, m_samples))"
   ]
  },
  {
   "cell_type": "code",
   "execution_count": null,
   "metadata": {},
   "outputs": [],
   "source": []
  },
  {
   "cell_type": "code",
   "execution_count": null,
   "metadata": {},
   "outputs": [],
   "source": []
  },
  {
   "cell_type": "code",
   "execution_count": 14,
   "metadata": {},
   "outputs": [
    {
     "data": {
      "image/png": "[encoded data removed]",
      "text/plain": [
       "<Figure size 1000x400 with 2 Axes>"
      ]
     },
     "metadata": {},
     "output_type": "display_data"
    }
   ],
   "source": [
    "fig, ax = plt.subplots(1, 2, sharex=True, sharey=True, figsize=(10, 4))\n",
    "ax[0].scatter(x_train[y_train==1, 0], x_train[y_train==1, 1], label='class 1', marker='s')\n",
    "ax[0].scatter(x_train[y_train==0, 0], x_train[y_train==0, 1], label='class 2', marker='o')\n",
    "ax[1].scatter(x_test[y_test==1, 0], x_test[y_test==1, 1], label='class 1', marker='s')\n",
    "ax[1].scatter(x_test[y_test==0, 0], x_test[y_test==0, 1], label='class 2', marker='o')\n",
    "ax[0].set_title('Training dataset')\n",
    "ax[1].set_title('Test dataset')\n",
    "ax[0].set_xlabel('x1')\n",
    "ax[0].set_ylabel('x2')\n",
    "ax[0].legend()\n",
    "plt.show()"
   ]
  },
  {
   "cell_type": "code",
   "execution_count": null,
   "metadata": {},
   "outputs": [],
   "source": []
  },
  {
   "cell_type": "code",
   "execution_count": null,
   "metadata": {},
   "outputs": [],
   "source": []
  },
  {
   "cell_type": "code",
   "execution_count": null,
   "metadata": {},
   "outputs": [],
   "source": []
  }
 ],
 "metadata": {
  "kernelspec": {
   "display_name": "study",
   "language": "python",
   "name": "python3"
  },
  "language_info": {
   "codemirror_mode": {
    "name": "ipython",
    "version": 3
   },
   "file_extension": ".py",
   "mimetype": "text/x-python",
   "name": "python",
   "nbconvert_exporter": "python",
   "pygments_lexer": "ipython3",
   "version": "3.10.6"
  },
  "orig_nbformat": 4
 },
 "nbformat": 4,
 "nbformat_minor": 2
}
