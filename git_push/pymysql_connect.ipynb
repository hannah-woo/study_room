{
 "cells": [
  {
   "cell_type": "code",
   "execution_count": null,
   "id": "e0ec0416",
   "metadata": {},
   "outputs": [],
   "source": [
    "import pymysql\n",
    "\n",
    "class Py3_db():\n",
    "    pass\n",
    "\n",
    "if __name__ == '__main__':\n",
    "    print('DB test')\n",
    "\n",
    "    db_config = {}\n",
    "    with open('./.env', 'r') as f:\n",
    "        for l in f.readlines():\n",
    "            key, value = l.rstrip().split('=')\n",
    "            if key == 'port':\n",
    "                db_config[key] = int(value)\n",
    "            else:\n",
    "                db_config[key] = value\n",
    "        print(db_config)\n",
    "    \n",
    "    print('DB start to connect!')\n",
    "    try:\n",
    "        conn = pymysql.connect(**db_config)\n",
    "        print('Success to connect DB')\n",
    "    except:\n",
    "        print('Fail to connect DB')\n",
    "        \n",
    "    conn.close()"
   ]
  }
 ],
 "metadata": {
  "kernelspec": {
   "display_name": "Python 3 (ipykernel)",
   "language": "python",
   "name": "python3"
  },
  "language_info": {
   "codemirror_mode": {
    "name": "ipython",
    "version": 3
   },
   "file_extension": ".py",
   "mimetype": "text/x-python",
   "name": "python",
   "nbconvert_exporter": "python",
   "pygments_lexer": "ipython3",
   "version": "3.10.4"
  }
 },
 "nbformat": 4,
 "nbformat_minor": 5
}
